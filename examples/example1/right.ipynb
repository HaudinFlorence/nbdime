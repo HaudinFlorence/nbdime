{
 "cells": [
  {
   "cell_type": "code",
   "execution_count": null,
   "id": "44a9ad96-674a-49e5-94ee-9d84f386ecbc",
   "metadata": {},
   "outputs": [],
   "source": [
    "import numpy\n",
    "\n",
    "a = np.arange(15).reshape(3, 5)\n",
    "b = np.array([1, 3, 5, 4, 2])\n",
    "c = a + b\n",
    "\n",
    "d = a - b"
   ]
  }
 ],
 "metadata": {
  "kernelspec": {
   "display_name": "Python 3 (ipykernel)",
   "language": "python",
   "name": "python3"
  },
  "language_info": {
   "codemirror_mode": {
    "name": "ipython",
    "version": 3
   },
   "file_extension": ".py",
   "mimetype": "text/x-python",
   "name": "python",
   "nbconvert_exporter": "python",
   "pygments_lexer": "ipython3",
   "version": "3.11.3"
  }
 },
 "nbformat": 4,
 "nbformat_minor": 5
}
